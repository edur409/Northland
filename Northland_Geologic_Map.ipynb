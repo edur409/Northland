{
 "cells": [
  {
   "cell_type": "code",
   "execution_count": 1,
   "metadata": {},
   "outputs": [
    {
     "data": {
      "text/html": [
       "<script>\n",
       "code_show=true; \n",
       "function code_toggle() {\n",
       " if (code_show){\n",
       " $('div.input').hide();\n",
       " } else {\n",
       " $('div.input').show();\n",
       " }\n",
       " code_show = !code_show\n",
       "} \n",
       "$( document ).ready(code_toggle);\n",
       "</script>\n",
       "The raw code for this IPython notebook is by default hidden for easier reading.\n",
       "To toggle on/off the raw code, click <a href=\"javascript:code_toggle()\">here</a>."
      ],
      "text/plain": [
       "<IPython.core.display.HTML object>"
      ]
     },
     "execution_count": 1,
     "metadata": {},
     "output_type": "execute_result"
    }
   ],
   "source": [
    "from IPython.display import HTML\n",
    "\n",
    "HTML('''<script>\n",
    "code_show=true; \n",
    "function code_toggle() {\n",
    " if (code_show){\n",
    " $('div.input').hide();\n",
    " } else {\n",
    " $('div.input').show();\n",
    " }\n",
    " code_show = !code_show\n",
    "} \n",
    "$( document ).ready(code_toggle);\n",
    "</script>\n",
    "The raw code for this IPython notebook is by default hidden for easier reading.\n",
    "To toggle on/off the raw code, click <a href=\"javascript:code_toggle()\">here</a>.''')"
   ]
  },
  {
   "cell_type": "markdown",
   "metadata": {},
   "source": [
    "# Northland Geology and Roads\n",
    "\n",
    "This Jupyter Notebook is intended to help you visualize the anomalies of interest against the Geologic Map and the Topographic Map with roads.  It is also a good example on how to retrieve information from [Macrostrat.org](https://macrostrat.org/map/#/z=9.0/x=174.1666/y=-35.5429/bedrock/lines/) for New Zealand.  All maps are in projection EPGS:3857.\n",
    "\n",
    "## SplitMap with ImageOverlay\n",
    "\n",
    "This example shows how to use the [Leaflet SplitMap](https://github.com/QuantStack/leaflet-splitmap) slider with ipyleaflet.  A raster is added as an image overlay.  The opacity of the raster can be changed before running the cells of the notebook.   \n",
    "\n",
    "Details of units in the geologic map can be found here [Macrostrat.org](https://macrostrat.org/map/#/z=9.0/x=174.1666/y=-35.5429/bedrock/lines/).  Macrostrat data can be browsed through the [Rockd.org](https://rockd.org/) mobile app, which is a good resource for geologists and geoscientists alike. \n",
    "\n",
    "## Check the metadata on the geologic unit\n",
    "\n",
    "To check the metadata of a particular unit, click on it and press the \"Check Formation!\" button.\n"
   ]
  },
  {
   "cell_type": "code",
   "execution_count": 2,
   "metadata": {},
   "outputs": [],
   "source": [
    "import numpy as np\n",
    "import matplotlib.pyplot as plt\n",
    "import pandas as pd\n",
    "import io\n",
    "import os\n",
    "import requests\n",
    "from IPython.display import display,clear_output\n",
    "import ipywidgets as widgets\n",
    "from ipywidgets import Label,Dropdown,jslink\n",
    "from ipyleaflet import (\n",
    "    Map, TileLayer, SplitMapControl, ScaleControl,FullScreenControl,ImageOverlay,LayersControl,WidgetControl,Marker,\n",
    "    DrawControl,MeasureControl\n",
    ")"
   ]
  },
  {
   "cell_type": "code",
   "execution_count": 3,
   "metadata": {},
   "outputs": [],
   "source": [
    "center = [-35.611896, 174.185050] #-34.8252978589571, 173.54580993652344\n",
    "zoom = 10\n",
    "opacity=0.8"
   ]
  },
  {
   "cell_type": "code",
   "execution_count": 4,
   "metadata": {},
   "outputs": [
    {
     "data": {
      "application/vnd.jupyter.widget-view+json": {
       "model_id": "8dfc4080712c4157b19c88facaa5729c",
       "version_major": 2,
       "version_minor": 0
      },
      "text/plain": [
       "Label(value='')"
      ]
     },
     "metadata": {},
     "output_type": "display_data"
    },
    {
     "data": {
      "application/vnd.jupyter.widget-view+json": {
       "model_id": "55e7c585dd2c4cf8b9a41a85f9b40e13",
       "version_major": 2,
       "version_minor": 0
      },
      "text/plain": [
       "Button(description='Check Formation!', style=ButtonStyle())"
      ]
     },
     "metadata": {},
     "output_type": "display_data"
    },
    {
     "data": {
      "application/vnd.jupyter.widget-view+json": {
       "model_id": "1496ae0ed4784f368fe64d8cbbf54a27",
       "version_major": 2,
       "version_minor": 0
      },
      "text/plain": [
       "Output()"
      ]
     },
     "metadata": {},
     "output_type": "display_data"
    },
    {
     "data": {
      "application/vnd.jupyter.widget-view+json": {
       "model_id": "73a5254907f3409188d55d7d2ecdceed",
       "version_major": 2,
       "version_minor": 0
      },
      "text/plain": [
       "Map(center=[-35.611896, 174.18505], controls=(ZoomControl(options=['position', 'zoom_in_text', 'zoom_in_title'…"
      ]
     },
     "metadata": {},
     "output_type": "display_data"
    }
   ],
   "source": [
    "m = Map(center=center, zoom=zoom)\n",
    "\n",
    "left = TileLayer(url='https://tiles.macrostrat.org/carto/{z}/{x}/{y}.png')\n",
    "right = TileLayer(url='https://{s}.tile.opentopomap.org/{z}/{x}/{y}.png')\n",
    "\n",
    "#Image Overlay for a grid\n",
    "#image = ImageOverlay(\n",
    "#    url='RTP.png',\n",
    "#    # url='../06Q1fSz.png',\n",
    "#    bounds=((-35.611896, 174.185050), (-35.411021, 174.380248)),\n",
    "#    opacity=opacity\n",
    "#)\n",
    "\n",
    "#image = ImageOverlay(\n",
    "#    url='Northland_CB_2.png',\n",
    "#    bounds=((-37.0078735, 171.9919065), (-34.0078135, 174.9919665)),\n",
    "#    opacity=opacity\n",
    "#)\n",
    "\n",
    "#image = ImageOverlay(\n",
    "#    url='Northland_TMI_reprojected.png',\n",
    "#    # url='../06Q1fSz.png',\n",
    "#    bounds=((-36.4081355,172.6260946), (-34.3687166,174.6581728)),\n",
    "#    opacity=opacity\n",
    "#)\n",
    "\n",
    "image = ImageOverlay(\n",
    "    url='Northland_TMI_RTP_reprojected.png',\n",
    "    bounds=((-36.4081355,172.6260946), (-34.3687166,174.6581728)),\n",
    "    opacity=opacity\n",
    ")\n",
    "\n",
    "#Add the layer\n",
    "m.add_layer(image)\n",
    "control = LayersControl(position='topright')\n",
    "m.add_control(control)\n",
    "m\n",
    "\n",
    "#Split the map\n",
    "control = SplitMapControl(left_layer=left, right_layer=right)\n",
    "m.add_control(control)\n",
    "m.add_control(ScaleControl(position='bottomleft',max_width=200))\n",
    "m.add_control(FullScreenControl())\n",
    "#m\n",
    "\n",
    "#Display coordinates on click\n",
    "def handle_interaction(**kwargs):\n",
    "    if kwargs.get('type') == 'mousedown': #'mousemove' will update coordinates with every position\n",
    "        label.value = str(kwargs.get('coordinates'))\n",
    "        \n",
    "label = Label()\n",
    "display(label)\n",
    "m.on_interaction(handle_interaction)\n",
    "\n",
    "#Button to check the formation on the geographic location selected\n",
    "button = widgets.Button(description=\"Check Formation!\")\n",
    "output = widgets.Output()\n",
    "\n",
    "display(button, output)\n",
    "\n",
    "def on_button_clicked(b):\n",
    "    with output:\n",
    "        if label.value=='':\n",
    "            clear_output(wait=True)\n",
    "            print('Click on a geologic formation on the map and click to get the info')\n",
    "        else:\n",
    "            #Get the infor from the API\n",
    "            clear_output(wait=True)\n",
    "            lat = label.value.strip('][').split(', ')[0] #Break the label into usable strings\n",
    "            lon = label.value.strip('][').split(', ')[1] #Break the label into usable strings\n",
    "            url='https://macrostrat.org/api/v2/geologic_units/map?lat='+lat+'&lng='+lon+'&scale=large&response=short&format=csv'\n",
    "            s=requests.get(url).content\n",
    "            c=pd.read_csv(io.StringIO(s.decode('utf-8')))\n",
    "            #Make it into a Pandas DataFrame\n",
    "            df=pd.DataFrame(c)\n",
    "            display(df)\n",
    "\n",
    "button.on_click(on_button_clicked)\n",
    "\n",
    "#Show the maps  \n",
    "m"
   ]
  },
  {
   "cell_type": "markdown",
   "metadata": {},
   "source": [
    "# Retrieve more information from the API on Geological Units\n",
    "\n",
    "We can request the geojson file for a geologic unit given the geographic coordinates.  The url should be formatted as in the example code below."
   ]
  },
  {
   "cell_type": "code",
   "execution_count": 5,
   "metadata": {},
   "outputs": [
    {
     "name": "stdout",
     "output_type": "stream",
     "text": [
      "Click on a geologic formation on the map above and run this cell to get the info and polygon\n"
     ]
    },
    {
     "data": {
      "application/vnd.jupyter.widget-view+json": {
       "model_id": "fd7c15ad6a9642c29f1e39759a934e7f",
       "version_major": 2,
       "version_minor": 0
      },
      "text/plain": [
       "Map(center=[-35.611896, 174.18505], controls=(ZoomControl(options=['position', 'zoom_in_text', 'zoom_in_title'…"
      ]
     },
     "metadata": {},
     "output_type": "display_data"
    }
   ],
   "source": [
    "from ipyleaflet import Map, ImageOverlay,GeoJSON\n",
    "m = Map(center=(-35.611896, 174.185050), zoom=7)\n",
    "\n",
    "#Request info from the API \n",
    "if label.value=='':\n",
    "    print('Click on a geologic formation on the map above and run this cell to get the info and polygon')\n",
    "else:\n",
    "    lat = label.value.strip('][').split(', ')[0] #Break the label into usable strings\n",
    "    lon = label.value.strip('][').split(', ')[1] #Break the label into usable strings\n",
    "    #Request the geojson file from the API    \n",
    "    import urllib.request, json \n",
    "    with urllib.request.urlopen('https://macrostrat.org/api/v2/geologic_units/map?lat='+lat+'&lng='+lon+'&response=short&scale=large&format=geojson_bare') as url:\n",
    "        data = json.loads(url.read().decode())\n",
    "    #Get the infor from the API\n",
    "    url='https://macrostrat.org/api/v2/geologic_units/map?lat='+lat+'&lng='+lon+'&scale=large&response=short&format=csv'\n",
    "    s=requests.get(url).content\n",
    "    c=pd.read_csv(io.StringIO(s.decode('utf-8')))\n",
    "    #Make it into a Pandas DataFrame\n",
    "    df=pd.DataFrame(c)\n",
    "    display(df)\n",
    "\n",
    "    geo_json = GeoJSON(\n",
    "        data=data,\n",
    "        style={'color': 'red','opacity': 1,'fillOpacity': 0.7} #If Color from the API change 'color' to df.color[0]\n",
    "    )\n",
    "    m.add_layer(geo_json)\n",
    "#Add draw control\n",
    "draw_control = DrawControl()\n",
    "draw_control.polyline =  {\n",
    "    \"shapeOptions\": {\n",
    "        \"color\": \"#6bc2e5\",\n",
    "        \"weight\": 8,\n",
    "        \"opacity\": 1.0\n",
    "    }\n",
    "}\n",
    "draw_control.polygon = {\n",
    "    \"shapeOptions\": {\n",
    "        \"fillColor\": \"#6be5c3\",\n",
    "        \"color\": \"#6be5c3\",\n",
    "        \"fillOpacity\": 1.0\n",
    "    },\n",
    "    \"drawError\": {\n",
    "        \"color\": \"#dd253b\",\n",
    "        \"message\": \"Oups!\"\n",
    "    },\n",
    "    \"allowIntersection\": False\n",
    "}\n",
    "draw_control.circle = {\n",
    "    \"shapeOptions\": {\n",
    "        \"fillColor\": \"#efed69\",\n",
    "        \"color\": \"#efed69\",\n",
    "        \"fillOpacity\": 1.0\n",
    "    }\n",
    "}\n",
    "draw_control.rectangle = {\n",
    "    \"shapeOptions\": {\n",
    "        \"fillColor\": \"#fca45d\",\n",
    "        \"color\": \"#fca45d\",\n",
    "        \"fillOpacity\": 1.0\n",
    "    }\n",
    "}\n",
    "\n",
    "m.add_control(draw_control)\n",
    "\n",
    "#Measure Control\n",
    "measure = MeasureControl(\n",
    "    position='bottomleft',\n",
    "    active_color = 'orange',\n",
    "    primary_length_unit = 'kilometers'\n",
    ")\n",
    "m.add_control(measure)\n",
    "\n",
    "measure.completed_color = 'red'\n",
    "\n",
    "measure.add_length_unit('yards', 1.09361, 4)\n",
    "measure.secondary_length_unit = 'yards'\n",
    "\n",
    "measure.add_area_unit('sqyards', 1.19599, 4)\n",
    "measure.secondary_area_unit = 'sqyards'\n",
    "\n",
    "m"
   ]
  },
  {
   "cell_type": "markdown",
   "metadata": {},
   "source": [
    "# Northland EQs\n",
    "\n",
    "The EQs of Northland displayed using the Circle marker and Popup tool of ipyleaflet. "
   ]
  },
  {
   "cell_type": "code",
   "execution_count": 6,
   "metadata": {},
   "outputs": [
    {
     "data": {
      "application/vnd.jupyter.widget-view+json": {
       "model_id": "06749f8fa13b4907ac4c48e9f458056e",
       "version_major": 2,
       "version_minor": 0
      },
      "text/plain": [
       "Label(value='')"
      ]
     },
     "metadata": {},
     "output_type": "display_data"
    },
    {
     "data": {
      "application/vnd.jupyter.widget-view+json": {
       "model_id": "405118eab0564b8388af875d1064263c",
       "version_major": 2,
       "version_minor": 0
      },
      "text/plain": [
       "Map(center=[-35.611896, 174.18505], controls=(ZoomControl(options=['position', 'zoom_in_text', 'zoom_in_title'…"
      ]
     },
     "metadata": {},
     "output_type": "display_data"
    }
   ],
   "source": [
    "from ipywidgets import HTML\n",
    "from ipyleaflet import Circle,Popup\n",
    "import numpy as np\n",
    "import matplotlib.pyplot as plt\n",
    "#Load the data for EQs\n",
    "long,lati,depth,mag=np.loadtxt('EQs_Northland.dat',skiprows=1,unpack=True)\n",
    "\n",
    "#Create the map\n",
    "m2 = Map(center=(-35.611896, 174.185050), zoom=7)\n",
    "\n",
    "circles = []\n",
    "for i in range(0,len(long)):\n",
    "    c = Circle(location=(lati[i],long[i]), radius=np.int(10*depth[i]),name=np.str(depth[i]))\n",
    "    circles.append(c)\n",
    "    m2.add_layer(c)\n",
    "    \n",
    "#Display values with a popup\n",
    "def handle_interaction2(**kwargs):\n",
    "    if kwargs.get('type') == 'mousedown': #'mousemove' will update coordinates with every position\n",
    "        label.value = str(kwargs.get('coordinates'))\n",
    "        lt = float(label.value.strip('][').split(', ')[0]) #Break the label into usable strings\n",
    "        lng = float(label.value.strip('][').split(', ')[1]) #Break the label into usable strings\n",
    "        message=HTML()\n",
    "        p=np.where((long==lng)&(lati==lt)) #Find the locations  to extract the value\n",
    "        if len(p[0])>1:\n",
    "            message.value = np.str(depth[p].mean())+' km'+' <b>Mw:</b> '+np.str(mag[p].mean())\n",
    "        elif len(p[0])==1:\n",
    "            message.value = np.str(depth[p])+' km'+' <b>Mw:</b> '+np.str(mag[p])\n",
    "        else:\n",
    "            message.value = 'No data'\n",
    "        # Popup with a given location on the map:\n",
    "        popup = Popup(\n",
    "        location=(lt,lng),\n",
    "        child=message,\n",
    "        close_button=False,\n",
    "        auto_close=False,\n",
    "        close_on_escape_key=False\n",
    "        )\n",
    "        m2.add_layer(popup)\n",
    "\n",
    "label2 = Label()\n",
    "display(label2)\n",
    "m2.on_interaction(handle_interaction2)\n",
    "m2"
   ]
  },
  {
   "cell_type": "markdown",
   "metadata": {},
   "source": [
    "# Epithermal vector data over Northland\n",
    "\n",
    "the data available can be obtained from the [New Zealand Petroleum and Minerals](https://www.nzpam.govt.nz/) database (datapack MR4343).  The shapefiles were reprojected into EPSG:4326 as GeoJSON files for visualization on ipyleaflet from NZMG (EPSG:27200) coordinates. "
   ]
  },
  {
   "cell_type": "code",
   "execution_count": 56,
   "metadata": {},
   "outputs": [
    {
     "data": {
      "application/vnd.jupyter.widget-view+json": {
       "model_id": "95ef3f25ee7b4a538cddcd73fefc5c43",
       "version_major": 2,
       "version_minor": 0
      },
      "text/plain": [
       "Map(center=[-35.5, 174.6], controls=(ZoomControl(options=['position', 'zoom_in_text', 'zoom_in_title', 'zoom_o…"
      ]
     },
     "metadata": {},
     "output_type": "display_data"
    }
   ],
   "source": [
    "from ipyleaflet import Map, ImageOverlay,GeoJSON,json\n",
    "center = (-35.5, 174.6) #or your desired coordinates\n",
    "m = Map(center=center, zoom=6)\n",
    "#m = Map(center=center, zoom=6)\n",
    "\n",
    "#left = TileLayer(url='https://tiles.macrostrat.org/carto/{z}/{x}/{y}.png')\n",
    "#right = TileLayer(url='https://{s}.tile.opentopomap.org/{z}/{x}/{y}.png')\n",
    "\n",
    "with open('./Vector_data_GeoJSON/hydrothm.geojson','r') as f: #epiareas.geojson\n",
    "    data = json.load(f)\n",
    "    geo_json = GeoJSON(data=data, style = {'color': 'Blue', 'opacity':1, 'weight':1.9, 'dashArray':'9', 'fillOpacity':0.1})\n",
    "m.add_layer(geo_json)\n",
    "\n",
    "#Split the map\n",
    "#control = SplitMapControl(left_layer=left, right_layer=right)\n",
    "#m.add_control(control)\n",
    "m.add_control(ScaleControl(position='bottomleft',max_width=200))\n",
    "m.add_control(FullScreenControl())\n",
    "m"
   ]
  },
  {
   "cell_type": "code",
   "execution_count": null,
   "metadata": {},
   "outputs": [],
   "source": []
  }
 ],
 "metadata": {
  "kernelspec": {
   "display_name": "Python 3",
   "language": "python",
   "name": "python3"
  },
  "language_info": {
   "codemirror_mode": {
    "name": "ipython",
    "version": 3
   },
   "file_extension": ".py",
   "mimetype": "text/x-python",
   "name": "python",
   "nbconvert_exporter": "python",
   "pygments_lexer": "ipython3",
   "version": "3.6.3"
  }
 },
 "nbformat": 4,
 "nbformat_minor": 4
}
